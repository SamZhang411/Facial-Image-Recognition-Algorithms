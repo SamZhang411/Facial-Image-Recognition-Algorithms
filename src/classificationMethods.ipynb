{
 "cells": [
  {
   "cell_type": "code",
   "execution_count": 21,
   "metadata": {
    "colab": {
     "base_uri": "https://localhost:8080/",
     "height": 356
    },
    "colab_type": "code",
    "id": "1fKLxwHyVlI0",
    "outputId": "7caad456-4904-478e-d1b9-7ba1807289a5"
   },
   "outputs": [],
   "source": [
    "import os\n",
    "import numpy as np\n",
    "import matplotlib.pyplot as plt\n",
    "import pandas as pd\n",
    "import scipy.io\n",
    "\n",
    "from sklearn.model_selection import train_test_split"
   ]
  },
  {
   "cell_type": "code",
   "execution_count": 25,
   "metadata": {},
   "outputs": [
    {
     "data": {
      "image/png": "[encoded data removed]",
      "text/plain": [
       "<Figure size 640x480 with 1 Axes>"
      ]
     },
     "metadata": {},
     "output_type": "display_data"
    },
    {
     "data": {
      "text/plain": [
       "<Figure size 640x480 with 0 Axes>"
      ]
     },
     "metadata": {},
     "output_type": "display_data"
    }
   ],
   "source": [
    "\n",
    "yaleData = scipy.io.loadmat(os.path.join('../', 'public', 'YaleB_32x32.mat'))\n",
    "\n",
    "# Extract the data and labels\n",
    "data = (yaleData['fea'])\n",
    "labels = (yaleData['gnd'])\n",
    "\n",
    "# Split the data into training and testing sets\n",
    "X_train, X_test, y_train, y_test = train_test_split(\n",
    "    data, labels, test_size=0.1, random_state=42)\n",
    "\n",
    "im0 = X_train[0].reshape(32, 32).T\n",
    "plt.imshow(im0, cmap = plt.get_cmap(\"gray\"))\n",
    "plt.show()\n",
    "plt.clf()\n",
    "# print('X_train shape:', X_train.shape)\n",
    "# print('y_train shape:', y_train.shape)\n",
    "# print('X_test shape:', X_test.shape)\n",
    "# print('y_test shape:', y_test.shape)\n"
   ]
  },
  {
   "cell_type": "code",
   "execution_count": 23,
   "metadata": {},
   "outputs": [
    {
     "name": "stderr",
     "output_type": "stream",
     "text": [
      "/Users/samzhang/.pyenv/versions/3.8.6/lib/python3.8/site-packages/sklearn/utils/validation.py:1143: DataConversionWarning: A column-vector y was passed when a 1d array was expected. Please change the shape of y to (n_samples, ), for example using ravel().\n",
      "  y = column_or_1d(y, warn=True)\n"
     ]
    },
    {
     "name": "stdout",
     "output_type": "stream",
     "text": [
      "SVM training accuracy is  1.0 testing accuracy  0.9380165289256198\n",
      "SVM Confusion matrix:\n",
      " [[3 0 0 ... 0 0 0]\n",
      " [0 4 0 ... 0 0 0]\n",
      " [0 0 4 ... 0 0 0]\n",
      " ...\n",
      " [0 0 0 ... 3 0 0]\n",
      " [0 0 0 ... 0 5 0]\n",
      " [0 0 0 ... 0 0 6]]\n",
      "              precision    recall  f1-score   support\n",
      "\n",
      "           1       1.00      1.00      1.00         3\n",
      "           2       1.00      1.00      1.00         4\n",
      "           3       0.80      1.00      0.89         4\n",
      "           4       0.92      0.92      0.92        13\n",
      "           5       1.00      1.00      1.00         4\n",
      "           6       1.00      1.00      1.00         5\n",
      "           7       0.91      1.00      0.95        10\n",
      "           8       1.00      0.82      0.90        11\n",
      "           9       1.00      0.83      0.91         6\n",
      "          10       0.88      1.00      0.93         7\n",
      "          11       1.00      1.00      1.00         6\n",
      "          12       1.00      1.00      1.00         6\n",
      "          13       1.00      0.86      0.92         7\n",
      "          14       1.00      1.00      1.00         4\n",
      "          15       1.00      1.00      1.00         7\n",
      "          16       1.00      1.00      1.00         4\n",
      "          17       1.00      1.00      1.00        10\n",
      "          18       1.00      1.00      1.00         7\n",
      "          19       0.75      1.00      0.86         3\n",
      "          20       0.89      0.89      0.89         9\n",
      "          21       0.86      1.00      0.92         6\n",
      "          22       1.00      0.80      0.89         5\n",
      "          23       0.88      1.00      0.93         7\n",
      "          24       1.00      0.86      0.92         7\n",
      "          25       1.00      1.00      1.00         6\n",
      "          26       1.00      1.00      1.00         4\n",
      "          27       1.00      1.00      1.00         6\n",
      "          28       1.00      1.00      1.00        10\n",
      "          29       1.00      0.88      0.93         8\n",
      "          30       1.00      1.00      1.00         9\n",
      "          31       0.80      1.00      0.89         4\n",
      "          32       0.82      1.00      0.90         9\n",
      "          33       1.00      0.75      0.86         4\n",
      "          34       0.67      0.67      0.67         3\n",
      "          35       0.86      0.75      0.80         8\n",
      "          36       1.00      0.75      0.86         4\n",
      "          37       0.71      1.00      0.83         5\n",
      "          38       1.00      0.86      0.92         7\n",
      "\n",
      "    accuracy                           0.94       242\n",
      "   macro avg       0.94      0.94      0.93       242\n",
      "weighted avg       0.95      0.94      0.94       242\n",
      "\n"
     ]
    }
   ],
   "source": [
    "from sklearn.preprocessing import StandardScaler\n",
    "from sklearn.decomposition import PCA\n",
    "from sklearn.svm import SVC\n",
    "from sklearn.ensemble import RandomForestClassifier\n",
    "from sklearn.metrics import accuracy_score, roc_curve, roc_auc_score, confusion_matrix, classification_report\n",
    "\n",
    "\n",
    "# SVM model\n",
    "svm = SVC(kernel='linear', probability=True, gamma='auto')\n",
    "svm.fit(X_train, y_train)\n",
    "\n",
    "# Evaluate SVM model\n",
    "svm_pred = svm.predict(X_test)\n",
    "svm_acc = accuracy_score(y_test, svm_pred)\n",
    "svm_probs = svm.predict_proba(X_test)[:, 1]\n",
    "svm_train = svm.predict(X_train)\n",
    "svm_train_acc = accuracy_score(y_train, svm_train)\n",
    "# svm_fpr, svm_tpr, svm_thresholds = roc_curve(y_test, svm_probs)\n",
    "# svm_auc = roc_auc_score(y_test, svm_probs)\n",
    "svm_cm = confusion_matrix(y_test, svm_pred)\n",
    "print('SVM training accuracy is ', svm_train_acc, 'testing accuracy ', svm_acc)\n",
    "print('SVM Confusion matrix:\\n', svm_cm)\n",
    "print(classification_report(y_test, svm_pred))\n",
    "\n"
   ]
  },
  {
   "cell_type": "code",
   "execution_count": 27,
   "metadata": {},
   "outputs": [
    {
     "name": "stderr",
     "output_type": "stream",
     "text": [
      "/Users/samzhang/.pyenv/versions/3.8.6/lib/python3.8/site-packages/sklearn/utils/validation.py:1143: DataConversionWarning: A column-vector y was passed when a 1d array was expected. Please change the shape of y to (n_samples, ), for example using ravel().\n",
      "  y = column_or_1d(y, warn=True)\n"
     ]
    },
    {
     "name": "stdout",
     "output_type": "stream",
     "text": [
      "SVM training accuracy is  1.0 testing accuracy  0.9421487603305785\n",
      "PCA + SVM Confusion matrix:\n",
      " [[3 0 0 ... 0 0 0]\n",
      " [0 4 0 ... 0 0 0]\n",
      " [0 0 4 ... 0 0 0]\n",
      " ...\n",
      " [0 0 0 ... 3 0 0]\n",
      " [0 0 0 ... 0 5 0]\n",
      " [0 0 0 ... 0 0 6]]\n",
      "              precision    recall  f1-score   support\n",
      "\n",
      "           1       1.00      1.00      1.00         3\n",
      "           2       0.80      1.00      0.89         4\n",
      "           3       0.80      1.00      0.89         4\n",
      "           4       0.93      1.00      0.96        13\n",
      "           5       1.00      1.00      1.00         4\n",
      "           6       1.00      1.00      1.00         5\n",
      "           7       1.00      1.00      1.00        10\n",
      "           8       1.00      0.82      0.90        11\n",
      "           9       1.00      0.83      0.91         6\n",
      "          10       0.88      1.00      0.93         7\n",
      "          11       1.00      1.00      1.00         6\n",
      "          12       1.00      1.00      1.00         6\n",
      "          13       1.00      0.86      0.92         7\n",
      "          14       1.00      1.00      1.00         4\n",
      "          15       1.00      1.00      1.00         7\n",
      "          16       1.00      1.00      1.00         4\n",
      "          17       1.00      1.00      1.00        10\n",
      "          18       1.00      1.00      1.00         7\n",
      "          19       0.75      1.00      0.86         3\n",
      "          20       0.89      0.89      0.89         9\n",
      "          21       0.86      1.00      0.92         6\n",
      "          22       1.00      0.80      0.89         5\n",
      "          23       0.88      1.00      0.93         7\n",
      "          24       1.00      0.86      0.92         7\n",
      "          25       1.00      1.00      1.00         6\n",
      "          26       1.00      1.00      1.00         4\n",
      "          27       1.00      1.00      1.00         6\n",
      "          28       1.00      1.00      1.00        10\n",
      "          29       1.00      0.88      0.93         8\n",
      "          30       1.00      1.00      1.00         9\n",
      "          31       0.80      1.00      0.89         4\n",
      "          32       0.82      1.00      0.90         9\n",
      "          33       1.00      0.75      0.86         4\n",
      "          34       0.67      0.67      0.67         3\n",
      "          35       0.86      0.75      0.80         8\n",
      "          36       1.00      0.75      0.86         4\n",
      "          37       1.00      1.00      1.00         5\n",
      "          38       0.86      0.86      0.86         7\n",
      "\n",
      "    accuracy                           0.94       242\n",
      "   macro avg       0.94      0.94      0.94       242\n",
      "weighted avg       0.95      0.94      0.94       242\n",
      "\n"
     ]
    }
   ],
   "source": [
    "# PCA+SVM model\n",
    "pca = PCA(n_components=500)\n",
    "X_train_pca = pca.fit_transform(X_train)\n",
    "X_test_pca = pca.transform(X_test)\n",
    "\n",
    "pca_svm = SVC(kernel='linear', probability=True, gamma='auto')\n",
    "pca_svm.fit(X_train_pca, y_train)\n",
    "\n",
    "# Evaluate PCA+SVM model\n",
    "pca_svm_pred = pca_svm.predict(X_test_pca)\n",
    "pca_svm_acc = accuracy_score(y_test, pca_svm_pred)\n",
    "pca_svm_train = pca_svm.predict(X_train_pca)\n",
    "pca_svm_train_acc = accuracy_score(y_train, pca_svm_train)\n",
    "pca_svm_cm = confusion_matrix(y_test, pca_svm_pred)\n",
    "print('SVM training accuracy is ', pca_svm_train_acc, 'testing accuracy ', pca_svm_acc)\n",
    "print('PCA + SVM Confusion matrix:\\n', pca_svm_cm)\n",
    "print(classification_report(y_test, pca_svm_pred))\n",
    "\n",
    "\n"
   ]
  },
  {
   "cell_type": "code",
   "execution_count": 29,
   "metadata": {},
   "outputs": [
    {
     "name": "stderr",
     "output_type": "stream",
     "text": [
      "/var/folders/2p/frb20w6934d5p16ys32x5bwm0000gn/T/ipykernel_45559/3640368713.py:3: DataConversionWarning: A column-vector y was passed when a 1d array was expected. Please change the shape of y to (n_samples,), for example using ravel().\n",
      "  rf.fit(X_train, y_train)\n"
     ]
    },
    {
     "name": "stdout",
     "output_type": "stream",
     "text": [
      "training accuracy: 0.9953959484346224 accuracy:  0.9545454545454546\n",
      "RF Confusion matrix:\n",
      " [[3 0 0 ... 0 0 0]\n",
      " [0 4 0 ... 0 0 0]\n",
      " [0 0 4 ... 0 0 0]\n",
      " ...\n",
      " [0 0 0 ... 4 0 0]\n",
      " [0 0 0 ... 0 5 0]\n",
      " [0 0 0 ... 0 0 7]]\n",
      "              precision    recall  f1-score   support\n",
      "\n",
      "           1       1.00      1.00      1.00         3\n",
      "           2       0.80      1.00      0.89         4\n",
      "           3       1.00      1.00      1.00         4\n",
      "           4       1.00      1.00      1.00        13\n",
      "           5       1.00      1.00      1.00         4\n",
      "           6       0.83      1.00      0.91         5\n",
      "           7       1.00      1.00      1.00        10\n",
      "           8       0.92      1.00      0.96        11\n",
      "           9       1.00      0.83      0.91         6\n",
      "          10       1.00      0.86      0.92         7\n",
      "          11       1.00      1.00      1.00         6\n",
      "          12       1.00      1.00      1.00         6\n",
      "          13       1.00      1.00      1.00         7\n",
      "          14       1.00      0.75      0.86         4\n",
      "          15       1.00      0.43      0.60         7\n",
      "          16       1.00      1.00      1.00         4\n",
      "          17       1.00      1.00      1.00        10\n",
      "          18       0.88      1.00      0.93         7\n",
      "          19       0.75      1.00      0.86         3\n",
      "          20       1.00      1.00      1.00         9\n",
      "          21       1.00      1.00      1.00         6\n",
      "          22       1.00      1.00      1.00         5\n",
      "          23       1.00      1.00      1.00         7\n",
      "          24       1.00      1.00      1.00         7\n",
      "          25       1.00      1.00      1.00         6\n",
      "          26       1.00      1.00      1.00         4\n",
      "          27       1.00      1.00      1.00         6\n",
      "          28       1.00      1.00      1.00        10\n",
      "          29       0.89      1.00      0.94         8\n",
      "          30       1.00      0.89      0.94         9\n",
      "          31       1.00      1.00      1.00         4\n",
      "          32       0.73      0.89      0.80         9\n",
      "          33       1.00      1.00      1.00         4\n",
      "          34       0.75      1.00      0.86         3\n",
      "          35       1.00      0.75      0.86         8\n",
      "          36       1.00      1.00      1.00         4\n",
      "          37       0.83      1.00      0.91         5\n",
      "          38       1.00      1.00      1.00         7\n",
      "\n",
      "    accuracy                           0.95       242\n",
      "   macro avg       0.96      0.96      0.95       242\n",
      "weighted avg       0.96      0.95      0.95       242\n",
      "\n"
     ]
    }
   ],
   "source": [
    "# Random forest model\n",
    "rf = RandomForestClassifier(n_estimators=100, max_depth=12)\n",
    "rf.fit(X_train, y_train)\n",
    "\n",
    "# Evaluate random forest model\n",
    "rf_pred = rf.predict(X_test)\n",
    "rf_acc = accuracy_score(y_test, rf_pred)\n",
    "rf_train = rf.predict(X_train)\n",
    "rf_train_acc = accuracy_score(y_train, rf_train)\n",
    "rf_probs = rf.predict_proba(X_test)[:, 1]\n",
    "# rf_fpr, rf_tpr, rf_thresholds = roc_curve(y_test, rf_probs)\n",
    "# rf_auc = roc_auc_score(y_test, rf_probs)\n",
    "rf_cm = confusion_matrix(y_test, rf_pred)\n",
    "print('training accuracy:', rf_train_acc, 'accuracy: ', rf_acc )\n",
    "print('RF Confusion matrix:\\n', rf_cm)\n",
    "print(classification_report(y_test, rf_pred))\n",
    "\n"
   ]
  },
  {
   "cell_type": "code",
   "execution_count": null,
   "metadata": {},
   "outputs": [],
   "source": [
    "# Plot ROC curves\n",
    "# plt.plot(svm_fpr, svm_tpr, label='SVM (AUC = %0.2f)' % svm_auc)\n",
    "# plt.plot(pca_svm_fpr, pca_svm_tpr, label='PCA+SVM (AUC = %0.2f)' % pca_svm_auc)\n",
    "# plt.plot(rf_fpr, rf_tpr, label='Random Forest (AUC = %0.2f)' % rf_auc)\n",
    "# plt.plot([0, 1], [0, 1], 'k--')\n",
    "# plt.xlim([0.0, 1.0])\n",
    "# plt.ylim([0.0, 1.05])\n",
    "# plt.xlabel('False Positive Rate')\n",
    "# plt.ylabel('True Positive Rate')\n",
    "# plt.title('Receiver Operating Characteristic')\n",
    "# plt.legend(loc=\"lower right\")\n",
    "# plt.show()\n"
   ]
  }
 ],
 "metadata": {
  "colab": {
   "collapsed_sections": [],
   "name": "Facial recog.ipynb",
   "provenance": []
  },
  "kernelspec": {
   "display_name": "Python 3",
   "language": "python",
   "name": "python3"
  },
  "language_info": {
   "codemirror_mode": {
    "name": "ipython",
    "version": 3
   },
   "file_extension": ".py",
   "mimetype": "text/x-python",
   "name": "python",
   "nbconvert_exporter": "python",
   "pygments_lexer": "ipython3",
   "version": "3.8.6"
  }
 },
 "nbformat": 4,
 "nbformat_minor": 1
}
