{
 "cells": [
  {
   "cell_type": "code",
   "execution_count": 64,
   "metadata": {
    "colab": {
     "base_uri": "https://localhost:8080/",
     "height": 356
    },
    "colab_type": "code",
    "id": "1fKLxwHyVlI0",
    "outputId": "7caad456-4904-478e-d1b9-7ba1807289a5"
   },
   "outputs": [],
   "source": [
    "import os\n",
    "import numpy as np\n",
    "import matplotlib.pyplot as plt\n",
    "import pandas as pd\n",
    "import scipy.io\n",
    "\n",
    "from sklearn.model_selection import train_test_split"
   ]
  },
  {
   "cell_type": "code",
   "execution_count": 65,
   "metadata": {},
   "outputs": [
    {
     "data": {
      "image/png": "[encoded data removed]",
      "text/plain": [
       "<Figure size 800x800 with 1 Axes>"
      ]
     },
     "metadata": {},
     "output_type": "display_data"
    },
    {
     "data": {
      "text/plain": [
       "<Figure size 800x800 with 0 Axes>"
      ]
     },
     "metadata": {},
     "output_type": "display_data"
    }
   ],
   "source": [
    "\n",
    "yaleData = scipy.io.loadmat(os.path.join('../', 'public', 'YaleB_32x32.mat'))\n",
    "\n",
    "# Extract the data and labels\n",
    "data = (yaleData['fea'])\n",
    "labels = (yaleData['gnd'])\n",
    "\n",
    "# Split the data into training and testing sets\n",
    "X_train, X_test, y_train, y_test = train_test_split(\n",
    "    data, labels, test_size=0.1, random_state=42)\n",
    "\n",
    "im0 = X_train[0].reshape(32, 32).T\n",
    "plt.imshow(im0, cmap = plt.get_cmap(\"gray\"))\n",
    "plt.show()\n",
    "plt.clf()\n",
    "# print('X_train shape:', X_train.shape)\n",
    "# print('y_train shape:', y_train.shape)\n",
    "# print('X_test shape:', X_test.shape)\n",
    "# print('y_test shape:', y_test.shape)\n"
   ]
  },
  {
   "cell_type": "code",
   "execution_count": 66,
   "metadata": {},
   "outputs": [
    {
     "name": "stderr",
     "output_type": "stream",
     "text": [
      "/Users/samzhang/.pyenv/versions/3.8.6/lib/python3.8/site-packages/sklearn/utils/validation.py:1143: DataConversionWarning: A column-vector y was passed when a 1d array was expected. Please change the shape of y to (n_samples, ), for example using ravel().\n",
      "  y = column_or_1d(y, warn=True)\n"
     ]
    },
    {
     "name": "stdout",
     "output_type": "stream",
     "text": [
      "SVM accuracy is  0.9380165289256198\n",
      "SVM Confusion matrix:\n",
      " [[3 0 0 ... 0 0 0]\n",
      " [0 4 0 ... 0 0 0]\n",
      " [0 0 4 ... 0 0 0]\n",
      " ...\n",
      " [0 0 0 ... 3 0 0]\n",
      " [0 0 0 ... 0 5 0]\n",
      " [0 0 0 ... 0 0 6]]\n"
     ]
    }
   ],
   "source": [
    "from sklearn.preprocessing import StandardScaler\n",
    "from sklearn.decomposition import PCA\n",
    "from sklearn.svm import SVC\n",
    "from sklearn.ensemble import RandomForestClassifier\n",
    "from sklearn.metrics import accuracy_score, roc_curve, roc_auc_score, confusion_matrix\n",
    "\n",
    "\n",
    "# SVM model\n",
    "svm = SVC(kernel='linear', probability=True, gamma='auto')\n",
    "svm.fit(X_train, y_train)\n",
    "\n",
    "# Evaluate SVM model\n",
    "svm_pred = svm.predict(X_test)\n",
    "svm_acc = accuracy_score(y_test, svm_pred)\n",
    "svm_probs = svm.predict_proba(X_test)[:, 1]\n",
    "# svm_fpr, svm_tpr, svm_thresholds = roc_curve(y_test, svm_probs)\n",
    "# svm_auc = roc_auc_score(y_test, svm_probs)\n",
    "svm_cm = confusion_matrix(y_test, svm_pred)\n",
    "print('SVM accuracy is ', svm_acc)\n",
    "print('SVM Confusion matrix:\\n', svm_cm)\n",
    "\n"
   ]
  },
  {
   "cell_type": "code",
   "execution_count": 73,
   "metadata": {},
   "outputs": [
    {
     "name": "stderr",
     "output_type": "stream",
     "text": [
      "/Users/samzhang/.pyenv/versions/3.8.6/lib/python3.8/site-packages/sklearn/utils/validation.py:1143: DataConversionWarning: A column-vector y was passed when a 1d array was expected. Please change the shape of y to (n_samples, ), for example using ravel().\n",
      "  y = column_or_1d(y, warn=True)\n"
     ]
    },
    {
     "name": "stdout",
     "output_type": "stream",
     "text": [
      "accuracy: 0.9421487603305785\n",
      "PCA + SVM Confusion matrix:\n",
      " [[3 0 0 ... 0 0 0]\n",
      " [0 4 0 ... 0 0 0]\n",
      " [0 0 4 ... 0 0 0]\n",
      " ...\n",
      " [0 0 0 ... 3 0 0]\n",
      " [0 0 0 ... 0 5 0]\n",
      " [0 0 0 ... 0 0 6]]\n"
     ]
    }
   ],
   "source": [
    "# PCA+SVM model\n",
    "pca = PCA(n_components=600)\n",
    "X_train_pca = pca.fit_transform(X_train)\n",
    "X_test_pca = pca.transform(X_test)\n",
    "\n",
    "pca_svm = SVC(kernel='linear', probability=True, gamma='auto')\n",
    "pca_svm.fit(X_train_pca, y_train)\n",
    "\n",
    "# Evaluate PCA+SVM model\n",
    "pca_svm_pred = pca_svm.predict(X_test_pca)\n",
    "pca_svm_acc = accuracy_score(y_test, pca_svm_pred)\n",
    "pca_svm_probs = pca_svm.predict_proba(X_test_pca)[:, 1]\n",
    "# pca_svm_fpr, pca_svm_tpr, pca_svm_thresholds = roc_curve(y_test, pca_svm_probs)\n",
    "# pca_svm_auc = roc_auc_score(y_test, pca_svm_probs)\n",
    "pca_svm_cm = confusion_matrix(y_test, pca_svm_pred)\n",
    "print('accuracy:', pca_svm_acc)\n",
    "print('PCA + SVM Confusion matrix:\\n', pca_svm_cm)\n",
    "\n",
    "\n"
   ]
  },
  {
   "cell_type": "code",
   "execution_count": 75,
   "metadata": {},
   "outputs": [
    {
     "name": "stderr",
     "output_type": "stream",
     "text": [
      "/var/folders/2p/frb20w6934d5p16ys32x5bwm0000gn/T/ipykernel_37539/2389423403.py:3: DataConversionWarning: A column-vector y was passed when a 1d array was expected. Please change the shape of y to (n_samples,), for example using ravel().\n",
      "  rf.fit(X_train, y_train)\n"
     ]
    },
    {
     "name": "stdout",
     "output_type": "stream",
     "text": [
      "accuracy: 0.9586776859504132\n",
      "RF Confusion matrix:\n",
      " [[3 0 0 ... 0 0 0]\n",
      " [0 4 0 ... 0 0 0]\n",
      " [0 0 3 ... 0 0 0]\n",
      " ...\n",
      " [0 0 0 ... 4 0 0]\n",
      " [0 0 0 ... 0 5 0]\n",
      " [0 0 0 ... 0 0 6]]\n"
     ]
    }
   ],
   "source": [
    "# Random forest model\n",
    "rf = RandomForestClassifier(n_estimators=100, max_depth=12)\n",
    "rf.fit(X_train, y_train)\n",
    "\n",
    "# Evaluate random forest model\n",
    "rf_pred = rf.predict(X_test)\n",
    "rf_acc = accuracy_score(y_test, rf_pred)\n",
    "rf_probs = rf.predict_proba(X_test)[:, 1]\n",
    "# rf_fpr, rf_tpr, rf_thresholds = roc_curve(y_test, rf_probs)\n",
    "# rf_auc = roc_auc_score(y_test, rf_probs)\n",
    "rf_cm = confusion_matrix(y_test, rf_pred)\n",
    "print('accuracy:', rf_acc)\n",
    "print('RF Confusion matrix:\\n', rf_cm)\n",
    "\n"
   ]
  },
  {
   "cell_type": "code",
   "execution_count": 69,
   "metadata": {},
   "outputs": [],
   "source": [
    "# Plot ROC curves\n",
    "# plt.plot(svm_fpr, svm_tpr, label='SVM (AUC = %0.2f)' % svm_auc)\n",
    "# plt.plot(pca_svm_fpr, pca_svm_tpr, label='PCA+SVM (AUC = %0.2f)' % pca_svm_auc)\n",
    "# plt.plot(rf_fpr, rf_tpr, label='Random Forest (AUC = %0.2f)' % rf_auc)\n",
    "# plt.plot([0, 1], [0, 1], 'k--')\n",
    "# plt.xlim([0.0, 1.0])\n",
    "# plt.ylim([0.0, 1.05])\n",
    "# plt.xlabel('False Positive Rate')\n",
    "# plt.ylabel('True Positive Rate')\n",
    "# plt.title('Receiver Operating Characteristic')\n",
    "# plt.legend(loc=\"lower right\")\n",
    "# plt.show()\n"
   ]
  }
 ],
 "metadata": {
  "colab": {
   "collapsed_sections": [],
   "name": "Facial recog.ipynb",
   "provenance": []
  },
  "kernelspec": {
   "display_name": "Python 3",
   "language": "python",
   "name": "python3"
  },
  "language_info": {
   "codemirror_mode": {
    "name": "ipython",
    "version": 3
   },
   "file_extension": ".py",
   "mimetype": "text/x-python",
   "name": "python",
   "nbconvert_exporter": "python",
   "pygments_lexer": "ipython3",
   "version": "3.8.6"
  }
 },
 "nbformat": 4,
 "nbformat_minor": 1
}
